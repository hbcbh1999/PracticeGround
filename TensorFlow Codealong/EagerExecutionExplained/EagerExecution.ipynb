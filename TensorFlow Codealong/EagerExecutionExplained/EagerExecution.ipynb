{
  "nbformat": 4,
  "nbformat_minor": 0,
  "metadata": {
    "colab": {
      "name": "EagerExecution.ipynb",
      "version": "0.3.2",
      "views": {},
      "default_view": {},
      "provenance": [],
      "collapsed_sections": []
    },
    "kernelspec": {
      "name": "python3",
      "display_name": "Python 3"
    },
    "accelerator": "GPU"
  },
  "cells": [
    {
      "metadata": {
        "id": "SzotJDaX-zi-",
        "colab_type": "text"
      },
      "cell_type": "markdown",
      "source": [
        "Coding along - https://www.tensorflow.org/programmers_guide/eager\n",
        "  \n",
        "  TensorFlow's eager execution is an imperative programming environment that evaluates operations immediately, without an extra graph-building step.Operations return concrete values instead of constructing a computational graph to run later.  \n",
        "  This makes it easy to get started with TensorFlow, debug models, reduce boilerplate code, and is fun!\n"
      ]
    },
    {
      "metadata": {
        "id": "yTqTBN6J_Q_B",
        "colab_type": "code",
        "colab": {
          "autoexec": {
            "startup": false,
            "wait_interval": 0
          },
          "base_uri": "https://localhost:8080/",
          "height": 301
        },
        "outputId": "c8c2bd3c-a39f-4539-8023-c852e52a38f6",
        "executionInfo": {
          "status": "ok",
          "timestamp": 1523449422049,
          "user_tz": -330,
          "elapsed": 4373,
          "user": {
            "displayName": "Avinash K",
            "photoUrl": "https://lh3.googleusercontent.com/a/default-user=s128",
            "userId": "102947600961494059759"
          }
        }
      },
      "cell_type": "code",
      "source": [
        "!pip install --upgrade tensorflow"
      ],
      "execution_count": 1,
      "outputs": [
        {
          "output_type": "stream",
          "text": [
            "Requirement already up-to-date: tensorflow in /usr/local/lib/python3.6/dist-packages\n",
            "Requirement already up-to-date: protobuf>=3.4.0 in /usr/local/lib/python3.6/dist-packages (from tensorflow)\n",
            "Requirement already up-to-date: six>=1.10.0 in /usr/local/lib/python3.6/dist-packages (from tensorflow)\n",
            "Requirement already up-to-date: grpcio>=1.8.6 in /usr/local/lib/python3.6/dist-packages (from tensorflow)\n",
            "Requirement already up-to-date: tensorboard<1.8.0,>=1.7.0 in /usr/local/lib/python3.6/dist-packages (from tensorflow)\n",
            "Requirement already up-to-date: termcolor>=1.1.0 in /usr/local/lib/python3.6/dist-packages (from tensorflow)\n",
            "Requirement already up-to-date: numpy>=1.13.3 in /usr/local/lib/python3.6/dist-packages (from tensorflow)\n",
            "Requirement already up-to-date: wheel>=0.26 in /usr/local/lib/python3.6/dist-packages (from tensorflow)\n",
            "Requirement already up-to-date: absl-py>=0.1.6 in /usr/local/lib/python3.6/dist-packages (from tensorflow)\n",
            "Requirement already up-to-date: astor>=0.6.0 in /usr/local/lib/python3.6/dist-packages (from tensorflow)\n",
            "Requirement already up-to-date: gast>=0.2.0 in /usr/local/lib/python3.6/dist-packages (from tensorflow)\n",
            "Requirement already up-to-date: setuptools in /usr/local/lib/python3.6/dist-packages (from protobuf>=3.4.0->tensorflow)\n",
            "Requirement already up-to-date: markdown>=2.6.8 in /usr/local/lib/python3.6/dist-packages (from tensorboard<1.8.0,>=1.7.0->tensorflow)\n",
            "Requirement already up-to-date: bleach==1.5.0 in /usr/local/lib/python3.6/dist-packages (from tensorboard<1.8.0,>=1.7.0->tensorflow)\n",
            "Requirement already up-to-date: html5lib==0.9999999 in /usr/local/lib/python3.6/dist-packages (from tensorboard<1.8.0,>=1.7.0->tensorflow)\n",
            "Requirement already up-to-date: werkzeug>=0.11.10 in /usr/local/lib/python3.6/dist-packages (from tensorboard<1.8.0,>=1.7.0->tensorflow)\n"
          ],
          "name": "stdout"
        }
      ]
    },
    {
      "metadata": {
        "id": "0D1vHzoUAOWp",
        "colab_type": "text"
      },
      "cell_type": "markdown",
      "source": [
        "Eager execution is a flexible machine learning platform for research and experimentation that provides:\n",
        "\n",
        "An intuitive interface —Structure your code naturally and use Python data structures. Quickly iterate on small models and small data.  \n",
        "Easier debugging —Call ops directly to inspect running models and test changes. Use standard Python debugging tools for immediate error reporting.  \n",
        "Natural control flow —Use Python control flow instead of graph control flow, including support for dynamic models"
      ]
    },
    {
      "metadata": {
        "id": "XVy9TTso_RM1",
        "colab_type": "code",
        "colab": {
          "autoexec": {
            "startup": false,
            "wait_interval": 0
          }
        }
      },
      "cell_type": "code",
      "source": [
        "from __future__ import absolute_import, division, print_function\n",
        "import tensorflow as tf\n",
        "tf.enable_eager_execution()"
      ],
      "execution_count": 0,
      "outputs": []
    },
    {
      "metadata": {
        "id": "qQOTEBS4Abr8",
        "colab_type": "text"
      },
      "cell_type": "markdown",
      "source": [
        "To start eager execution, add tf.enable_eager_execution() to the beginning of the program or console session.  \n",
        "Do not add this operation to other modules that the program calls  \n",
        "Enabling eager execution changes how TensorFlow operations behave—now they immediately evaluate and return their values to Python.   \n",
        "tf.Tensor objects reference concrete values instead of symbolic handles to nodes in a computational graph.  \n",
        "Since there isn't a computational graph to build and run later in a session, it's easy to inspect results using print() or a debugger.   \n",
        "Evaluating, printing, and checking tensor values does not break the flow for computing gradients"
      ]
    },
    {
      "metadata": {
        "id": "xOTMi-YC_RQL",
        "colab_type": "code",
        "colab": {
          "autoexec": {
            "startup": false,
            "wait_interval": 0
          },
          "base_uri": "https://localhost:8080/",
          "height": 242
        },
        "outputId": "9390b1e1-88c9-4d2c-cc6f-68f18b814608",
        "executionInfo": {
          "status": "ok",
          "timestamp": 1523450526393,
          "user_tz": -330,
          "elapsed": 1118,
          "user": {
            "displayName": "Avinash K",
            "photoUrl": "https://lh3.googleusercontent.com/a/default-user=s128",
            "userId": "102947600961494059759"
          }
        }
      },
      "cell_type": "code",
      "source": [
        "tf.executing_eagerly()\n",
        "a = tf.constant([[1,2],[3,4]])\n",
        "print(a)\n",
        "\n",
        "b = tf.add(a,1)\n",
        "print(b)\n",
        "\n",
        "print(a*b)\n",
        "\n",
        "import numpy as np\n",
        "c = np.multiply(a,b)\n",
        "print(c)\n",
        "\n",
        "print(a.numpy())"
      ],
      "execution_count": 6,
      "outputs": [
        {
          "output_type": "stream",
          "text": [
            "tf.Tensor(\n",
            "[[1 2]\n",
            " [3 4]], shape=(2, 2), dtype=int32)\n",
            "tf.Tensor(\n",
            "[[2 3]\n",
            " [4 5]], shape=(2, 2), dtype=int32)\n",
            "tf.Tensor(\n",
            "[[ 2  6]\n",
            " [12 20]], shape=(2, 2), dtype=int32)\n",
            "[[ 2  6]\n",
            " [12 20]]\n",
            "[[1 2]\n",
            " [3 4]]\n"
          ],
          "name": "stdout"
        }
      ]
    },
    {
      "metadata": {
        "id": "z-er9D3zphnj",
        "colab_type": "text"
      },
      "cell_type": "markdown",
      "source": [
        " TensorFlow math operations convert Python objects and NumPy arrays to tf.Tensor objects  \n",
        " "
      ]
    },
    {
      "metadata": {
        "id": "ZFx_Ud5F_RTG",
        "colab_type": "code",
        "colab": {
          "autoexec": {
            "startup": false,
            "wait_interval": 0
          },
          "base_uri": "https://localhost:8080/",
          "height": 89
        },
        "outputId": "9767ae9f-f7e2-411e-b31a-6ac28c4dda93",
        "executionInfo": {
          "status": "ok",
          "timestamp": 1523450552270,
          "user_tz": -330,
          "elapsed": 5243,
          "user": {
            "displayName": "Avinash K",
            "photoUrl": "https://lh3.googleusercontent.com/a/default-user=s128",
            "userId": "102947600961494059759"
          }
        }
      },
      "cell_type": "code",
      "source": [
        "import tensorflow.contrib.eager as tfe"
      ],
      "execution_count": 7,
      "outputs": [
        {
          "output_type": "stream",
          "text": [
            "WARNING:tensorflow:From /usr/local/lib/python3.6/dist-packages/tensorflow/contrib/learn/python/learn/datasets/base.py:198: retry (from tensorflow.contrib.learn.python.learn.datasets.base) is deprecated and will be removed in a future version.\n",
            "Instructions for updating:\n",
            "Use the retry module or similar alternatives.\n"
          ],
          "name": "stdout"
        }
      ]
    },
    {
      "metadata": {
        "id": "DPBLT2OEvp1b",
        "colab_type": "text"
      },
      "cell_type": "markdown",
      "source": [
        "During eager execution, use tfe.GradientTape to trace operations for computing gradients later.  \n",
        "all forward-pass operations get recorded to a \"tape\". To compute the gradient, play the tape backwards and then discard.  \n",
        "A particular tfe.GradientTape can only be computed once, subsequent calls throw a runtime error.</br>  \n",
        "Automatic Differentition exploits the fact that every computer program, no matter how complicated, executes a sequence of elementary arithmetic operations (addition, subtraction, multiplication, division, etc.)  \n",
        "and elementary functions (exp, log, sin, cos, etc.). By applying the chain rule repeatedly to these operations, derivatives of arbitrary order can be computed automatically, accurately to working precision, and using at most a small constant factor more arithmetic operations than the original program."
      ]
    },
    {
      "metadata": {
        "id": "9gwbPeTj_Rha",
        "colab_type": "code",
        "colab": {
          "autoexec": {
            "startup": false,
            "wait_interval": 0
          },
          "base_uri": "https://localhost:8080/",
          "height": 54
        },
        "outputId": "ee8ba100-0051-42a6-96ce-b2ac67ab1b1e",
        "executionInfo": {
          "status": "ok",
          "timestamp": 1523451860484,
          "user_tz": -330,
          "elapsed": 764,
          "user": {
            "displayName": "Avinash K",
            "photoUrl": "https://lh3.googleusercontent.com/a/default-user=s128",
            "userId": "102947600961494059759"
          }
        }
      },
      "cell_type": "code",
      "source": [
        "w = tfe.Variable([[1.0]])\n",
        "with tfe.GradientTape() as tape:\n",
        "  loss = w * w\n",
        "  \n",
        "grad = tape.gradient(loss, [w])\n",
        "print(grad)"
      ],
      "execution_count": 11,
      "outputs": [
        {
          "output_type": "stream",
          "text": [
            "[<tf.Tensor: id=87, shape=(1, 1), dtype=float32, numpy=array([[2.]], dtype=float32)>]\n"
          ],
          "name": "stdout"
        }
      ]
    },
    {
      "metadata": {
        "id": "P7LA5jmZ_Rk-",
        "colab_type": "code",
        "colab": {
          "autoexec": {
            "startup": false,
            "wait_interval": 0
          },
          "base_uri": "https://localhost:8080/",
          "height": 242
        },
        "outputId": "c0859f42-c61e-47b3-e427-8a93446275e6",
        "executionInfo": {
          "status": "ok",
          "timestamp": 1523454089158,
          "user_tz": -330,
          "elapsed": 804,
          "user": {
            "displayName": "Avinash K",
            "photoUrl": "https://lh3.googleusercontent.com/a/default-user=s128",
            "userId": "102947600961494059759"
          }
        }
      },
      "cell_type": "code",
      "source": [
        "NUM_EXAMPLES = 1000\n",
        "training_inputs = tf.random_normal([NUM_EXAMPLES])  #Outputs random values from a normal distribution.\n",
        "noise = tf.random_normal([NUM_EXAMPLES])\n",
        "#print(\"training input\",training_inputs)\n",
        "#print(\"noise\",noise)\n",
        "training_outputs = training_inputs * 3 + 2 + noise\n",
        "\n",
        "def prediction(input, weight, bias):\n",
        "  return input * weight + bias\n",
        "\n",
        "def loss(weights,biases):\n",
        "  error = prediction(training_inputs, weights, biases) - training_outputs\n",
        "  return tf.reduce_mean(tf.square(error))\n",
        "\n",
        "def grad(weights,biases):\n",
        "  with tfe.GradientTape() as tape:\n",
        "    loss_value = loss(weights,biases)\n",
        "  return tape.gradient(loss_value,[weights,biases])\n",
        "\n",
        "train_steps = 200\n",
        "learning_rate = 0.01\n",
        "W = tfe.Variable([5.]) # random initial value for W\n",
        "B = tfe.Variable([10.]) # random initial value for B\n",
        "\n",
        "print(\"Initial loss: {:.3f}\".format(loss(W,B)))\n",
        "\n",
        "for i in range(train_steps):\n",
        "  dW, dB = grad(W,B)\n",
        "  #print(\"derivatves are\",dW,dB)\n",
        "  W.assign_sub(dW * learning_rate)\n",
        "  B.assign_sub(dB * learning_rate)\n",
        "  if i % 20 == 0:\n",
        "    print(\"Loss at step {:03d}: {:.3f}\".format(i, loss(W,B)))\n",
        "\n",
        "print(\"Final loss: {:.3f}\".format(loss(W,B)))\n",
        "print(\"W = {}, B = {}\".format(W.numpy(), B.numpy()))\n",
        "  "
      ],
      "execution_count": 23,
      "outputs": [
        {
          "output_type": "stream",
          "text": [
            "Initial loss: 68.918\n",
            "Loss at step 000: 66.252\n",
            "Loss at step 020: 30.307\n",
            "Loss at step 040: 14.178\n",
            "Loss at step 060: 6.938\n",
            "Loss at step 080: 3.688\n",
            "Loss at step 100: 2.229\n",
            "Loss at step 120: 1.574\n",
            "Loss at step 140: 1.279\n",
            "Loss at step 160: 1.147\n",
            "Loss at step 180: 1.087\n",
            "Final loss: 1.061\n",
            "W = [3.0121834], B = [2.1231875]\n"
          ],
          "name": "stdout"
        }
      ]
    },
    {
      "metadata": {
        "id": "vkLXJG_j_Rfy",
        "colab_type": "code",
        "colab": {
          "autoexec": {
            "startup": false,
            "wait_interval": 0
          }
        }
      },
      "cell_type": "code",
      "source": [
        "\n",
        "  "
      ],
      "execution_count": 0,
      "outputs": []
    },
    {
      "metadata": {
        "id": "rEAYdAOb_RdX",
        "colab_type": "code",
        "colab": {
          "autoexec": {
            "startup": false,
            "wait_interval": 0
          }
        }
      },
      "cell_type": "code",
      "source": [
        ""
      ],
      "execution_count": 0,
      "outputs": []
    },
    {
      "metadata": {
        "id": "2z98Ox2-_Ran",
        "colab_type": "code",
        "colab": {
          "autoexec": {
            "startup": false,
            "wait_interval": 0
          }
        }
      },
      "cell_type": "code",
      "source": [
        ""
      ],
      "execution_count": 0,
      "outputs": []
    },
    {
      "metadata": {
        "id": "y334rPCv_RYA",
        "colab_type": "code",
        "colab": {
          "autoexec": {
            "startup": false,
            "wait_interval": 0
          }
        }
      },
      "cell_type": "code",
      "source": [
        ""
      ],
      "execution_count": 0,
      "outputs": []
    },
    {
      "metadata": {
        "id": "MTrmqwnk-tV7",
        "colab_type": "text"
      },
      "cell_type": "markdown",
      "source": [
        ""
      ]
    }
  ]
}