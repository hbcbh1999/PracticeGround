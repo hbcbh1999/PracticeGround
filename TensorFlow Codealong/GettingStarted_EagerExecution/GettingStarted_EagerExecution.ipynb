{
  "nbformat": 4,
  "nbformat_minor": 0,
  "metadata": {
    "colab": {
      "name": "GettingStarted_EagerExecution.ipynb",
      "version": "0.3.2",
      "views": {},
      "default_view": {},
      "provenance": [],
      "collapsed_sections": []
    },
    "kernelspec": {
      "name": "python3",
      "display_name": "Python 3"
    },
    "accelerator": "GPU"
  },
  "cells": [
    {
      "metadata": {
        "id": "VQULVoKuMBL9",
        "colab_type": "code",
        "colab": {
          "autoexec": {
            "startup": false,
            "wait_interval": 0
          },
          "output_extras": [
            {
              "item_id": 11
            }
          ],
          "base_uri": "https://localhost:8080/",
          "height": 816
        },
        "outputId": "e1e4116f-49bb-491b-ac52-f87b558b03e8",
        "executionInfo": {
          "status": "ok",
          "timestamp": 1523010295036,
          "user_tz": -330,
          "elapsed": 41327,
          "user": {
            "displayName": "Avinash K",
            "photoUrl": "https://lh3.googleusercontent.com/a/default-user=s128",
            "userId": "102947600961494059759"
          }
        }
      },
      "cell_type": "code",
      "source": [
        "!pip install --upgrade tensorflow\n"
      ],
      "execution_count": 1,
      "outputs": [
        {
          "output_type": "stream",
          "text": [
            "Collecting tensorflow\n",
            "  Downloading tensorflow-1.7.0-cp36-cp36m-manylinux1_x86_64.whl (48.0MB)\n",
            "\u001b[K    100% |████████████████████████████████| 48.0MB 28kB/s \n",
            "\u001b[?25hRequirement already up-to-date: astor>=0.6.0 in /usr/local/lib/python3.6/dist-packages (from tensorflow)\n",
            "Requirement already up-to-date: six>=1.10.0 in /usr/local/lib/python3.6/dist-packages (from tensorflow)\n",
            "Collecting tensorboard<1.8.0,>=1.7.0 (from tensorflow)\n",
            "  Downloading tensorboard-1.7.0-py3-none-any.whl (3.1MB)\n",
            "\u001b[K    100% |████████████████████████████████| 3.1MB 445kB/s \n",
            "\u001b[?25hRequirement already up-to-date: numpy>=1.13.3 in /usr/local/lib/python3.6/dist-packages (from tensorflow)\n",
            "Requirement already up-to-date: gast>=0.2.0 in /usr/local/lib/python3.6/dist-packages (from tensorflow)\n",
            "Collecting protobuf>=3.4.0 (from tensorflow)\n",
            "  Downloading protobuf-3.5.2.post1-cp36-cp36m-manylinux1_x86_64.whl (6.4MB)\n",
            "\u001b[K    100% |████████████████████████████████| 6.4MB 214kB/s \n",
            "\u001b[?25hRequirement already up-to-date: absl-py>=0.1.6 in /usr/local/lib/python3.6/dist-packages (from tensorflow)\n",
            "Collecting wheel>=0.26 (from tensorflow)\n",
            "  Downloading wheel-0.31.0-py2.py3-none-any.whl (41kB)\n",
            "\u001b[K    100% |████████████████████████████████| 51kB 10.8MB/s \n",
            "\u001b[?25hRequirement already up-to-date: termcolor>=1.1.0 in /usr/local/lib/python3.6/dist-packages (from tensorflow)\n",
            "Collecting grpcio>=1.8.6 (from tensorflow)\n",
            "  Downloading grpcio-1.10.1-cp36-cp36m-manylinux1_x86_64.whl (7.7MB)\n",
            "\u001b[K    100% |████████████████████████████████| 7.7MB 179kB/s \n",
            "\u001b[?25hRequirement already up-to-date: werkzeug>=0.11.10 in /usr/local/lib/python3.6/dist-packages (from tensorboard<1.8.0,>=1.7.0->tensorflow)\n",
            "Requirement already up-to-date: html5lib==0.9999999 in /usr/local/lib/python3.6/dist-packages (from tensorboard<1.8.0,>=1.7.0->tensorflow)\n",
            "Requirement already up-to-date: markdown>=2.6.8 in /usr/local/lib/python3.6/dist-packages (from tensorboard<1.8.0,>=1.7.0->tensorflow)\n",
            "Requirement already up-to-date: bleach==1.5.0 in /usr/local/lib/python3.6/dist-packages (from tensorboard<1.8.0,>=1.7.0->tensorflow)\n",
            "Collecting setuptools (from protobuf>=3.4.0->tensorflow)\n",
            "  Downloading setuptools-39.0.1-py2.py3-none-any.whl (569kB)\n",
            "\u001b[K    100% |████████████████████████████████| 573kB 1.9MB/s \n",
            "\u001b[?25hInstalling collected packages: setuptools, protobuf, wheel, tensorboard, grpcio, tensorflow\n",
            "  Found existing installation: setuptools 36.2.7\n",
            "    Not uninstalling setuptools at /usr/lib/python3/dist-packages, outside environment /usr\n",
            "  Found existing installation: protobuf 3.5.2\n",
            "    Uninstalling protobuf-3.5.2:\n",
            "      Successfully uninstalled protobuf-3.5.2\n",
            "  Found existing installation: wheel 0.30.0\n",
            "    Uninstalling wheel-0.30.0:\n",
            "      Successfully uninstalled wheel-0.30.0\n",
            "  Found existing installation: tensorboard 1.6.0\n",
            "    Uninstalling tensorboard-1.6.0:\n",
            "      Successfully uninstalled tensorboard-1.6.0\n",
            "  Found existing installation: grpcio 1.10.0\n",
            "    Uninstalling grpcio-1.10.0:\n",
            "      Successfully uninstalled grpcio-1.10.0\n",
            "  Found existing installation: tensorflow 1.6.0\n",
            "    Uninstalling tensorflow-1.6.0:\n",
            "      Successfully uninstalled tensorflow-1.6.0\n",
            "Successfully installed grpcio-1.10.1 protobuf-3.5.2.post1 setuptools-39.0.1 tensorboard-1.7.0 tensorflow-1.7.0 wheel-0.31.0\n"
          ],
          "name": "stdout"
        }
      ]
    },
    {
      "metadata": {
        "id": "64fHWfA8MQb9",
        "colab_type": "code",
        "colab": {
          "autoexec": {
            "startup": false,
            "wait_interval": 0
          },
          "output_extras": [
            {
              "item_id": 1
            }
          ],
          "base_uri": "https://localhost:8080/",
          "height": 34
        },
        "outputId": "47dec887-eb7c-4c07-af5e-e4a285f0025e",
        "executionInfo": {
          "status": "ok",
          "timestamp": 1523010299857,
          "user_tz": -330,
          "elapsed": 4766,
          "user": {
            "displayName": "Avinash K",
            "photoUrl": "https://lh3.googleusercontent.com/a/default-user=s128",
            "userId": "102947600961494059759"
          }
        }
      },
      "cell_type": "code",
      "source": [
        "import tensorflow as tf\n",
        "tf.enable_eager_execution()\n",
        "print(tf.VERSION)"
      ],
      "execution_count": 2,
      "outputs": [
        {
          "output_type": "stream",
          "text": [
            "1.7.0\n"
          ],
          "name": "stdout"
        }
      ]
    },
    {
      "metadata": {
        "id": "lZ5WybW2MQgk",
        "colab_type": "code",
        "colab": {
          "autoexec": {
            "startup": false,
            "wait_interval": 0
          },
          "output_extras": [
            {
              "item_id": 2
            }
          ],
          "base_uri": "https://localhost:8080/",
          "height": 122
        },
        "outputId": "7f19e257-6fb1-4dae-873a-3a1bc8125acc",
        "executionInfo": {
          "status": "ok",
          "timestamp": 1523010309064,
          "user_tz": -330,
          "elapsed": 9122,
          "user": {
            "displayName": "Avinash K",
            "photoUrl": "https://lh3.googleusercontent.com/a/default-user=s128",
            "userId": "102947600961494059759"
          }
        }
      },
      "cell_type": "code",
      "source": [
        "# __future__ : It can be used to use features which will appear in newer versions while having an older release of Python.\n",
        "from __future__ import absolute_import, division, print_function\n",
        "\n",
        "import os\n",
        "import matplotlib.pyplot as plt\n",
        "\n",
        "import tensorflow as tf\n",
        "import tensorflow.contrib.eager as tfe\n",
        "\n",
        "\n",
        "\n",
        "print(\"TensorFlow version: {}\".format(tf.VERSION))\n",
        "print(\"Eager execution: {}\".format(tf.executing_eagerly()))"
      ],
      "execution_count": 3,
      "outputs": [
        {
          "output_type": "stream",
          "text": [
            "WARNING:tensorflow:From /usr/local/lib/python3.6/dist-packages/tensorflow/contrib/learn/python/learn/datasets/base.py:198: retry (from tensorflow.contrib.learn.python.learn.datasets.base) is deprecated and will be removed in a future version.\n",
            "Instructions for updating:\n",
            "Use the retry module or similar alternatives.\n",
            "TensorFlow version: 1.7.0\n",
            "Eager execution: True\n"
          ],
          "name": "stdout"
        }
      ]
    },
    {
      "metadata": {
        "id": "9fWtKHC5MQj3",
        "colab_type": "code",
        "colab": {
          "autoexec": {
            "startup": false,
            "wait_interval": 0
          },
          "output_extras": [
            {
              "item_id": 1
            }
          ],
          "base_uri": "https://localhost:8080/",
          "height": 68
        },
        "outputId": "74babfb8-49fd-4b9c-848a-6f2abdb1b71b",
        "executionInfo": {
          "status": "ok",
          "timestamp": 1523010313139,
          "user_tz": -330,
          "elapsed": 4014,
          "user": {
            "displayName": "Avinash K",
            "photoUrl": "https://lh3.googleusercontent.com/a/default-user=s128",
            "userId": "102947600961494059759"
          }
        }
      },
      "cell_type": "code",
      "source": [
        "train_dataset_url = \"http://download.tensorflow.org/data/iris_training.csv\"\n",
        "# tf.keras.utils.get_file() downloads the dataset and returns the local path of the downloaded file\n",
        "train_dataset_fp = tf.keras.utils.get_file(fname=os.path.basename(train_dataset_url),origin=train_dataset_url)\n",
        "print(\"Local copy of the dataset fil: {}\".format(train_dataset_fp))"
      ],
      "execution_count": 4,
      "outputs": [
        {
          "output_type": "stream",
          "text": [
            "Downloading data from http://download.tensorflow.org/data/iris_training.csv\n",
            "\r8192/2194 [================================================================================================================] - 0s 0us/step\n",
            "Local copy of the dataset fil: /content/.keras/datasets/iris_training.csv\n"
          ],
          "name": "stdout"
        }
      ]
    },
    {
      "metadata": {
        "id": "Wft1HqcjMQro",
        "colab_type": "code",
        "colab": {
          "autoexec": {
            "startup": false,
            "wait_interval": 0
          },
          "output_extras": [
            {
              "item_id": 1
            }
          ],
          "base_uri": "https://localhost:8080/",
          "height": 272
        },
        "outputId": "8d2d2e73-4c16-44c3-c641-89ee7ebe94ae",
        "executionInfo": {
          "status": "ok",
          "timestamp": 1523010319098,
          "user_tz": -330,
          "elapsed": 5621,
          "user": {
            "displayName": "Avinash K",
            "photoUrl": "https://lh3.googleusercontent.com/a/default-user=s128",
            "userId": "102947600961494059759"
          }
        }
      },
      "cell_type": "code",
      "source": [
        "!head {train_dataset_fp} # by default prints the first 10 lines\n",
        "!head -n5 {train_dataset_fp}"
      ],
      "execution_count": 5,
      "outputs": [
        {
          "output_type": "stream",
          "text": [
            "120,4,setosa,versicolor,virginica\r\n",
            "6.4,2.8,5.6,2.2,2\r\n",
            "5.0,2.3,3.3,1.0,1\r\n",
            "4.9,2.5,4.5,1.7,2\r\n",
            "4.9,3.1,1.5,0.1,0\r\n",
            "5.7,3.8,1.7,0.3,0\r\n",
            "4.4,3.2,1.3,0.2,0\r\n",
            "5.4,3.4,1.5,0.4,0\r\n",
            "6.9,3.1,5.1,2.3,2\r\n",
            "6.7,3.1,4.4,1.4,1\n",
            "120,4,setosa,versicolor,virginica\n",
            "6.4,2.8,5.6,2.2,2\n",
            "5.0,2.3,3.3,1.0,1\n",
            "4.9,2.5,4.5,1.7,2\n",
            "4.9,3.1,1.5,0.1,0\n"
          ],
          "name": "stdout"
        }
      ]
    },
    {
      "metadata": {
        "id": "6PWjFto3MQui",
        "colab_type": "code",
        "colab": {
          "autoexec": {
            "startup": false,
            "wait_interval": 0
          }
        }
      },
      "cell_type": "code",
      "source": [
        "def parse_csv(line):\n",
        "  example_defaults = [[0.], [0.], [0.], [0.], [0]]\n",
        "  # decode_csv Converts CSV records to tensors. Each column maps to one tensor.\n",
        "  parse_line = tf.decode_csv(line,example_defaults)\n",
        "  features = tf.reshape(parse_line[:-1],shape=(4,))\n",
        "  label = tf.reshape(parse_line[-1],shape=())\n",
        "  return features, label"
      ],
      "execution_count": 0,
      "outputs": []
    },
    {
      "metadata": {
        "id": "xzV7D-bsMQxQ",
        "colab_type": "code",
        "colab": {
          "autoexec": {
            "startup": false,
            "wait_interval": 0
          },
          "output_extras": [
            {
              "item_id": 1
            }
          ],
          "base_uri": "https://localhost:8080/",
          "height": 51
        },
        "outputId": "9b61d9a2-587a-45fe-8344-02ccfaa12a5f",
        "executionInfo": {
          "status": "ok",
          "timestamp": 1523010323690,
          "user_tz": -330,
          "elapsed": 2282,
          "user": {
            "displayName": "Avinash K",
            "photoUrl": "https://lh3.googleusercontent.com/a/default-user=s128",
            "userId": "102947600961494059759"
          }
        }
      },
      "cell_type": "code",
      "source": [
        "train_dataset = tf.data.TextLineDataset(train_dataset_fp)\n",
        "train_dataset = train_dataset.skip(1)\n",
        "# The difference is that map will execute one function on every element of the Dataset separately\n",
        "# whereas apply will execute one function on the whole Dataset at once \n",
        "train_dataset = train_dataset.map(parse_csv)\n",
        "train_dataset = train_dataset.shuffle(buffer_size=1000)\n",
        "train_dataset = train_dataset.batch(32)\n",
        "features, label = tfe.Iterator(train_dataset).next()\n",
        "print(\"example features:\", features[0])\n",
        "print(\"example label\",label[0])\n"
      ],
      "execution_count": 7,
      "outputs": [
        {
          "output_type": "stream",
          "text": [
            "example features: tf.Tensor([4.6 3.1 1.5 0.2], shape=(4,), dtype=float32)\n",
            "example label tf.Tensor(0, shape=(), dtype=int32)\n"
          ],
          "name": "stdout"
        }
      ]
    },
    {
      "metadata": {
        "id": "qHDQ8GcgwoVE",
        "colab_type": "code",
        "colab": {
          "autoexec": {
            "startup": false,
            "wait_interval": 0
          }
        }
      },
      "cell_type": "code",
      "source": [
        "model = tf.keras.Sequential([\n",
        "    tf.keras.layers.Dense(10,activation=\"relu\", input_shape=(4,)),\n",
        "    tf.keras.layers.Dense(10,activation=\"relu\"),\n",
        "    tf.keras.layers.Dense(3)\n",
        "])"
      ],
      "execution_count": 0,
      "outputs": []
    },
    {
      "metadata": {
        "id": "Ie9u7xcTwof9",
        "colab_type": "code",
        "colab": {
          "autoexec": {
            "startup": false,
            "wait_interval": 0
          }
        }
      },
      "cell_type": "code",
      "source": [
        "def loss(model,x,y):\n",
        "  y_=model(x)\n",
        "  return tf.losses.sparse_softmax_cross_entropy(labels=y,logits=y_)\n",
        "\n",
        "def grad(model,inputs,targets):\n",
        "  with tfe.GradientTape() as tape:\n",
        "    loss_value = loss(model,inputs,targets)\n",
        "  return tape.gradient(loss_value,model.variables)"
      ],
      "execution_count": 0,
      "outputs": []
    },
    {
      "metadata": {
        "id": "Q_EEDVzawomt",
        "colab_type": "code",
        "colab": {
          "autoexec": {
            "startup": false,
            "wait_interval": 0
          }
        }
      },
      "cell_type": "code",
      "source": [
        "optimizer = tf.train.GradientDescentOptimizer(learning_rate=0.01)"
      ],
      "execution_count": 0,
      "outputs": []
    },
    {
      "metadata": {
        "id": "LhHQ8KdhwotN",
        "colab_type": "code",
        "colab": {
          "autoexec": {
            "startup": false,
            "wait_interval": 0
          }
        }
      },
      "cell_type": "code",
      "source": [
        ""
      ],
      "execution_count": 0,
      "outputs": []
    },
    {
      "metadata": {
        "id": "YEVersyIwo3O",
        "colab_type": "code",
        "colab": {
          "autoexec": {
            "startup": false,
            "wait_interval": 0
          }
        }
      },
      "cell_type": "code",
      "source": [
        ""
      ],
      "execution_count": 0,
      "outputs": []
    },
    {
      "metadata": {
        "id": "lq5O1sDuMQ0u",
        "colab_type": "code",
        "colab": {
          "autoexec": {
            "startup": false,
            "wait_interval": 0
          },
          "output_extras": [
            {
              "item_id": 4
            }
          ],
          "base_uri": "https://localhost:8080/",
          "height": 102
        },
        "outputId": "9a810036-0e00-4b72-ea46-8fcc8dd529da",
        "executionInfo": {
          "status": "ok",
          "timestamp": 1523010346654,
          "user_tz": -330,
          "elapsed": 10897,
          "user": {
            "displayName": "Avinash K",
            "photoUrl": "https://lh3.googleusercontent.com/a/default-user=s128",
            "userId": "102947600961494059759"
          }
        }
      },
      "cell_type": "code",
      "source": [
        "train_loss_results = []\n",
        "train_accuracy_results = []\n",
        "num_epochs = 201\n",
        "for epoch in range(num_epochs):\n",
        "  epoch_loss_avg = tfe.metrics.Mean()\n",
        "  epoch_accuracy = tfe.metrics.Accuracy()\n",
        "  for x,y in tfe.Iterator(train_dataset):\n",
        "    #print(\"x and y are\",x,\" \",y) # x and y are for minibatch of 32 examples/observations\n",
        "    # above line prints the first 32 rows of dataset since our batch by default is 32\n",
        "    grads = grad(model, x, y)\n",
        "    #print(\"model variables are\",model.variables) # prints weights of each layer\n",
        "    # this prints all the weights, bias of each layer, very informative\n",
        "    # weights were given some random values and bias are all set to 0 in first iteration\n",
        "    optimizer.apply_gradients(zip(grads,model.variables),\n",
        "                             global_step=tf.train.get_or_create_global_step())\n",
        "    epoch_loss_avg(loss(model,x,y))\n",
        "    epoch_accuracy(tf.argmax(model(x),axis=1,output_type=tf.int32),y)\n",
        "  train_loss_results.append(epoch_loss_avg.result())\n",
        "  train_accuracy_results.append(epoch_accuracy.result())\n",
        "  if epoch % 50 == 0 :\n",
        "    print(\"Epoch {:03d}: Loss: {:.3f}, Accuracy: {:.3%}\".format(epoch,\n",
        "                                                               epoch_loss_avg.result(),\n",
        "                                                               epoch_accuracy.result()))"
      ],
      "execution_count": 11,
      "outputs": [
        {
          "output_type": "stream",
          "text": [
            "Epoch 000: Loss: 1.326, Accuracy: 15.000%\n",
            "Epoch 050: Loss: 0.463, Accuracy: 79.167%\n",
            "Epoch 100: Loss: 0.284, Accuracy: 96.667%\n",
            "Epoch 150: Loss: 0.189, Accuracy: 97.500%\n",
            "Epoch 200: Loss: 0.134, Accuracy: 97.500%\n"
          ],
          "name": "stdout"
        }
      ]
    },
    {
      "metadata": {
        "id": "F0syG1pMwlgh",
        "colab_type": "code",
        "colab": {
          "autoexec": {
            "startup": false,
            "wait_interval": 0
          },
          "output_extras": [
            {
              "item_id": 1
            }
          ],
          "base_uri": "https://localhost:8080/",
          "height": 558
        },
        "outputId": "bb611446-608b-4fac-9630-e51f1fa63166",
        "executionInfo": {
          "status": "ok",
          "timestamp": 1523010833662,
          "user_tz": -330,
          "elapsed": 2433,
          "user": {
            "displayName": "Avinash K",
            "photoUrl": "https://lh3.googleusercontent.com/a/default-user=s128",
            "userId": "102947600961494059759"
          }
        }
      },
      "cell_type": "code",
      "source": [
        "fig, axes = plt.subplots(2, sharex = True, figsize=(12,8)) # this generates two plots, one below the other, the x axis is shared which means, x axis is marked and labelled as a common axis\n",
        "fig.suptitle('Training Metrics') #suptitle sets the title for the whole plot, since we have multiple plots here\n",
        "# You can set the main figure title with fig.suptitle and subplot's titles with ax.set_title or by passing title to fig.add_subplot\n",
        "axes[0].set_ylabel(\"Loss\",fontsize=14)\n",
        "# we created 2 subplots here. axes[0] refers the first plot and axes[1] refers to second plot\n",
        "axes[0].plot(train_loss_results)\n",
        "\n",
        "axes[1].set_ylabel(\"Accuracy\", fontsize=14)\n",
        "axes[1].set_xlabel(\"Epochs\",fontsize=14)\n",
        "axes[1].plot(train_accuracy_results)\n",
        "plt.show()\n"
      ],
      "execution_count": 25,
      "outputs": [
        {
          "output_type": "display_data",
          "data": {
            "image/png": "[encoded data removed]",
            "text/plain": [
              "<matplotlib.figure.Figure at 0x7f7f13e55128>"
            ]
          },
          "metadata": {
            "tags": []
          }
        }
      ]
    },
    {
      "metadata": {
        "id": "ksPgeESTwl3z",
        "colab_type": "code",
        "colab": {
          "autoexec": {
            "startup": false,
            "wait_interval": 0
          }
        }
      },
      "cell_type": "code",
      "source": [
        "test_url = \"http://download.tensorflow.org/data/iris_test.csv\"\n",
        "test_fp = tf.keras.utils.get_file(fname=os.path.basename(test_url),origin=test_url)\n",
        "# fname: Name of the file. If an absolute path `/path/to/file.txt` is specified the file will be saved at that location.\n",
        "'''\n",
        "Both functions use the os.path.split(path) function to split the pathname path into a pair; (head, tail).\n",
        "\n",
        "The os.path.dirname(path) function returns the head of the path.\n",
        "\n",
        "E.g.: The dirname of '/foo/bar/item' is '/foo/bar'.\n",
        "\n",
        "The os.path.basename(path) function returns the tail of the path.\n",
        "\n",
        "E.g.: The basename of '/foo/bar/item' returns 'item'\n",
        "'''\n",
        "test_dataset = tf.data.TextLineDataset(test_fp)\n",
        "test_dataset = test_dataset.skip(1)\n",
        "test_dataset = test_dataset.map(parse_csv)\n",
        "test_dataset = test_dataset.shuffle(1000)\n",
        "test_dataset = test_dataset.batch(32)"
      ],
      "execution_count": 0,
      "outputs": []
    },
    {
      "metadata": {
        "id": "2toWYYjXwmC7",
        "colab_type": "code",
        "colab": {
          "autoexec": {
            "startup": false,
            "wait_interval": 0
          },
          "output_extras": [
            {
              "item_id": 1
            }
          ],
          "base_uri": "https://localhost:8080/",
          "height": 561
        },
        "outputId": "48058bd7-feaf-4a01-aae4-f1ea3affacf1",
        "executionInfo": {
          "status": "ok",
          "timestamp": 1523013201870,
          "user_tz": -330,
          "elapsed": 3840,
          "user": {
            "displayName": "Avinash K",
            "photoUrl": "https://lh3.googleusercontent.com/a/default-user=s128",
            "userId": "102947600961494059759"
          }
        }
      },
      "cell_type": "code",
      "source": [
        "test_accuracy = tfe.metrics.Accuracy()\n",
        "\n",
        "test_index = 1\n",
        "for x,y in tfe.Iterator(test_dataset):\n",
        "  if test_index == 1:\n",
        "    print(model(x))\n",
        "  prediction = tf.argmax(model(x), axis=1,output_type=tf.int32)\n",
        "  test_accuracy(prediction,y)\n",
        "  test_index = 2\n",
        "  \n",
        "print(\"Test set accuracy: {:.3f}\".format(test_accuracy.result()))\n",
        "  \n",
        "  "
      ],
      "execution_count": 35,
      "outputs": [
        {
          "output_type": "stream",
          "text": [
            "tf.Tensor(\n",
            "[[-2.8576448   2.3912346   0.7262622 ]\n",
            " [-2.6979403   1.9306469   0.94867074]\n",
            " [ 4.3383217   0.2005519  -7.974553  ]\n",
            " [ 4.961014    0.06784573 -8.862272  ]\n",
            " [-0.5387735   1.7141184  -2.216999  ]\n",
            " [ 4.454423    0.26464596 -8.305475  ]\n",
            " [-2.180199    2.1200078  -0.12100235]\n",
            " [-6.440628    2.814172    6.3105946 ]\n",
            " [-5.3056364   2.6657798   4.571819  ]\n",
            " [-1.9612067   2.1325026  -0.77302706]\n",
            " [-5.0727243   2.6129606   3.9779456 ]\n",
            " [-1.6824216   1.9637693  -0.8410841 ]\n",
            " [-3.2668395   2.3095102   1.64351   ]\n",
            " [ 4.405816    0.15052167 -8.019054  ]\n",
            " [-5.817508    2.762578    5.044322  ]\n",
            " [-5.6934342   2.6074157   5.0778017 ]\n",
            " [-5.5910425   2.3839808   5.5506535 ]\n",
            " [ 4.1224413   0.38856283 -7.7689114 ]\n",
            " [-2.5732887   2.1731014   0.4213055 ]\n",
            " [-1.6841146   1.8510852  -0.9062389 ]\n",
            " [-2.1460443   2.1532705  -0.4579927 ]\n",
            " [-2.7125518   2.3319619   0.17792186]\n",
            " [-3.9030647   2.4341779   2.3092086 ]\n",
            " [ 4.803511    0.09071007 -8.57335   ]\n",
            " [ 3.8624406   0.0706009  -6.9031534 ]\n",
            " [-2.5207558   1.9837546   0.61421645]\n",
            " [ 4.0761404   0.4339203  -7.8167048 ]\n",
            " [-3.8492522   2.278199    2.3211873 ]\n",
            " [-5.2368608   2.4327953   4.9666767 ]\n",
            " [-2.8389544   2.3063624   0.6737424 ]], shape=(30, 3), dtype=float32)\n",
            "Test set accuracy: 0.933\n"
          ],
          "name": "stdout"
        }
      ]
    },
    {
      "metadata": {
        "id": "GIN7mG2ZwmKk",
        "colab_type": "code",
        "colab": {
          "autoexec": {
            "startup": false,
            "wait_interval": 0
          },
          "output_extras": [
            {
              "item_id": 1
            }
          ],
          "base_uri": "https://localhost:8080/",
          "height": 34
        },
        "outputId": "99d21604-b16e-4f7d-ccc6-6f3eb99ffc69",
        "executionInfo": {
          "status": "ok",
          "timestamp": 1523013256549,
          "user_tz": -330,
          "elapsed": 1471,
          "user": {
            "displayName": "Avinash K",
            "photoUrl": "https://lh3.googleusercontent.com/a/default-user=s128",
            "userId": "102947600961494059759"
          }
        }
      },
      "cell_type": "code",
      "source": [
        "test_dataset"
      ],
      "execution_count": 38,
      "outputs": [
        {
          "output_type": "execute_result",
          "data": {
            "text/plain": [
              "<BatchDataset shapes: ((?, 4), (?,)), types: (tf.float32, tf.int32)>"
            ]
          },
          "metadata": {
            "tags": []
          },
          "execution_count": 38
        }
      ]
    },
    {
      "metadata": {
        "id": "GuZUOLVkwmQZ",
        "colab_type": "code",
        "colab": {
          "autoexec": {
            "startup": false,
            "wait_interval": 0
          }
        }
      },
      "cell_type": "code",
      "source": [
        ""
      ],
      "execution_count": 0,
      "outputs": []
    },
    {
      "metadata": {
        "id": "wxRPgIvywmUo",
        "colab_type": "code",
        "colab": {
          "autoexec": {
            "startup": false,
            "wait_interval": 0
          }
        }
      },
      "cell_type": "code",
      "source": [
        ""
      ],
      "execution_count": 0,
      "outputs": []
    },
    {
      "metadata": {
        "id": "I8qvGyhywmZJ",
        "colab_type": "code",
        "colab": {
          "autoexec": {
            "startup": false,
            "wait_interval": 0
          }
        }
      },
      "cell_type": "code",
      "source": [
        ""
      ],
      "execution_count": 0,
      "outputs": []
    },
    {
      "metadata": {
        "id": "nz--kL2xMQqB",
        "colab_type": "code",
        "colab": {
          "autoexec": {
            "startup": false,
            "wait_interval": 0
          }
        }
      },
      "cell_type": "code",
      "source": [
        ""
      ],
      "execution_count": 0,
      "outputs": []
    },
    {
      "metadata": {
        "id": "6ZJ5bf_oMQnL",
        "colab_type": "code",
        "colab": {
          "autoexec": {
            "startup": false,
            "wait_interval": 0
          }
        }
      },
      "cell_type": "code",
      "source": [
        ""
      ],
      "execution_count": 0,
      "outputs": []
    }
  ]
}