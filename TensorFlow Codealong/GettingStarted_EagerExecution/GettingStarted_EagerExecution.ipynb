{
  "nbformat": 4,
  "nbformat_minor": 0,
  "metadata": {
    "colab": {
      "name": "GettingStarted_EagerExecution.ipynb",
      "version": "0.3.2",
      "views": {},
      "default_view": {},
      "provenance": [],
      "collapsed_sections": []
    },
    "kernelspec": {
      "name": "python3",
      "display_name": "Python 3"
    },
    "accelerator": "GPU"
  },
  "cells": [
    {
      "metadata": {
        "id": "VQULVoKuMBL9",
        "colab_type": "code",
        "colab": {
          "autoexec": {
            "startup": false,
            "wait_interval": 0
          },
          "base_uri": "https://localhost:8080/",
          "height": 873
        },
        "outputId": "8dcaea29-6529-46d9-fe01-45dc08161a86",
        "executionInfo": {
          "status": "ok",
          "timestamp": 1523117196472,
          "user_tz": -330,
          "elapsed": 37352,
          "user": {
            "displayName": "Avinash K",
            "photoUrl": "https://lh3.googleusercontent.com/a/default-user=s128",
            "userId": "102947600961494059759"
          }
        }
      },
      "cell_type": "code",
      "source": [
        "!pip install --upgrade tensorflow\n"
      ],
      "execution_count": 2,
      "outputs": [
        {
          "output_type": "stream",
          "text": [
            "Collecting tensorflow\n",
            "  Downloading tensorflow-1.7.0-cp36-cp36m-manylinux1_x86_64.whl (48.0MB)\n",
            "\u001b[K    100% |████████████████████████████████| 48.0MB 29kB/s \n",
            "\u001b[?25hRequirement already up-to-date: absl-py>=0.1.6 in /usr/local/lib/python3.6/dist-packages (from tensorflow)\n",
            "Requirement already up-to-date: numpy>=1.13.3 in /usr/local/lib/python3.6/dist-packages (from tensorflow)\n",
            "Requirement already up-to-date: termcolor>=1.1.0 in /usr/local/lib/python3.6/dist-packages (from tensorflow)\n",
            "Requirement already up-to-date: astor>=0.6.0 in /usr/local/lib/python3.6/dist-packages (from tensorflow)\n",
            "Collecting protobuf>=3.4.0 (from tensorflow)\n",
            "  Downloading protobuf-3.5.2.post1-cp36-cp36m-manylinux1_x86_64.whl (6.4MB)\n",
            "\u001b[K    100% |████████████████████████████████| 6.4MB 212kB/s \n",
            "\u001b[?25hCollecting wheel>=0.26 (from tensorflow)\n",
            "  Downloading wheel-0.31.0-py2.py3-none-any.whl (41kB)\n",
            "\u001b[K    100% |████████████████████████████████| 51kB 10.8MB/s \n",
            "\u001b[?25hRequirement already up-to-date: gast>=0.2.0 in /usr/local/lib/python3.6/dist-packages (from tensorflow)\n",
            "Collecting tensorboard<1.8.0,>=1.7.0 (from tensorflow)\n",
            "  Downloading tensorboard-1.7.0-py3-none-any.whl (3.1MB)\n",
            "\u001b[K    100% |████████████████████████████████| 3.1MB 456kB/s \n",
            "\u001b[?25hRequirement already up-to-date: six>=1.10.0 in /usr/local/lib/python3.6/dist-packages (from tensorflow)\n",
            "Collecting grpcio>=1.8.6 (from tensorflow)\n",
            "  Downloading grpcio-1.10.1-cp36-cp36m-manylinux1_x86_64.whl (7.7MB)\n",
            "\u001b[K    100% |████████████████████████████████| 7.7MB 186kB/s \n",
            "\u001b[?25hCollecting setuptools (from protobuf>=3.4.0->tensorflow)\n",
            "  Downloading setuptools-39.0.1-py2.py3-none-any.whl (569kB)\n",
            "\u001b[K    100% |████████████████████████████████| 573kB 2.2MB/s \n",
            "\u001b[?25hRequirement already up-to-date: markdown>=2.6.8 in /usr/local/lib/python3.6/dist-packages (from tensorboard<1.8.0,>=1.7.0->tensorflow)\n",
            "Requirement already up-to-date: werkzeug>=0.11.10 in /usr/local/lib/python3.6/dist-packages (from tensorboard<1.8.0,>=1.7.0->tensorflow)\n",
            "Requirement already up-to-date: bleach==1.5.0 in /usr/local/lib/python3.6/dist-packages (from tensorboard<1.8.0,>=1.7.0->tensorflow)\n",
            "Requirement already up-to-date: html5lib==0.9999999 in /usr/local/lib/python3.6/dist-packages (from tensorboard<1.8.0,>=1.7.0->tensorflow)\n",
            "Installing collected packages: setuptools, protobuf, wheel, tensorboard, grpcio, tensorflow\n",
            "  Found existing installation: setuptools 36.2.7\n",
            "    Not uninstalling setuptools at /usr/lib/python3/dist-packages, outside environment /usr\n",
            "  Found existing installation: protobuf 3.5.2\n",
            "    Uninstalling protobuf-3.5.2:\n",
            "      Successfully uninstalled protobuf-3.5.2\n",
            "  Found existing installation: wheel 0.30.0\n",
            "    Uninstalling wheel-0.30.0:\n",
            "      Successfully uninstalled wheel-0.30.0\n",
            "  Found existing installation: tensorboard 1.6.0\n",
            "    Uninstalling tensorboard-1.6.0:\n",
            "      Successfully uninstalled tensorboard-1.6.0\n",
            "  Found existing installation: grpcio 1.10.0\n",
            "    Uninstalling grpcio-1.10.0:\n",
            "      Successfully uninstalled grpcio-1.10.0\n",
            "  Found existing installation: tensorflow 1.6.0\n",
            "    Uninstalling tensorflow-1.6.0:\n",
            "      Successfully uninstalled tensorflow-1.6.0\n",
            "Successfully installed grpcio-1.10.1 protobuf-3.5.2.post1 setuptools-39.0.1 tensorboard-1.7.0 tensorflow-1.7.0 wheel-0.31.0\n"
          ],
          "name": "stdout"
        }
      ]
    },
    {
      "metadata": {
        "id": "64fHWfA8MQb9",
        "colab_type": "code",
        "colab": {
          "autoexec": {
            "startup": false,
            "wait_interval": 0
          },
          "base_uri": "https://localhost:8080/",
          "height": 35
        },
        "outputId": "67b1f037-0f54-4ed9-c36f-b855b05be566",
        "executionInfo": {
          "status": "ok",
          "timestamp": 1523117199196,
          "user_tz": -330,
          "elapsed": 2686,
          "user": {
            "displayName": "Avinash K",
            "photoUrl": "https://lh3.googleusercontent.com/a/default-user=s128",
            "userId": "102947600961494059759"
          }
        }
      },
      "cell_type": "code",
      "source": [
        "import tensorflow as tf\n",
        "tf.enable_eager_execution()\n",
        "print(tf.VERSION)"
      ],
      "execution_count": 3,
      "outputs": [
        {
          "output_type": "stream",
          "text": [
            "1.7.0\n"
          ],
          "name": "stdout"
        }
      ]
    },
    {
      "metadata": {
        "id": "lZ5WybW2MQgk",
        "colab_type": "code",
        "colab": {
          "autoexec": {
            "startup": false,
            "wait_interval": 0
          },
          "base_uri": "https://localhost:8080/",
          "height": 126
        },
        "outputId": "997ae3da-3c8a-4b3d-f051-376d28d9e56e",
        "executionInfo": {
          "status": "ok",
          "timestamp": 1523117204402,
          "user_tz": -330,
          "elapsed": 5166,
          "user": {
            "displayName": "Avinash K",
            "photoUrl": "https://lh3.googleusercontent.com/a/default-user=s128",
            "userId": "102947600961494059759"
          }
        }
      },
      "cell_type": "code",
      "source": [
        "# __future__ : It can be used to use features which will appear in newer versions while having an older release of Python.\n",
        "from __future__ import absolute_import, division, print_function\n",
        "\n",
        "import os\n",
        "import matplotlib.pyplot as plt\n",
        "\n",
        "import tensorflow as tf\n",
        "import tensorflow.contrib.eager as tfe\n",
        "\n",
        "\n",
        "\n",
        "print(\"TensorFlow version: {}\".format(tf.VERSION))\n",
        "print(\"Eager execution: {}\".format(tf.executing_eagerly()))"
      ],
      "execution_count": 4,
      "outputs": [
        {
          "output_type": "stream",
          "text": [
            "WARNING:tensorflow:From /usr/local/lib/python3.6/dist-packages/tensorflow/contrib/learn/python/learn/datasets/base.py:198: retry (from tensorflow.contrib.learn.python.learn.datasets.base) is deprecated and will be removed in a future version.\n",
            "Instructions for updating:\n",
            "Use the retry module or similar alternatives.\n",
            "TensorFlow version: 1.7.0\n",
            "Eager execution: True\n"
          ],
          "name": "stdout"
        }
      ]
    },
    {
      "metadata": {
        "id": "9fWtKHC5MQj3",
        "colab_type": "code",
        "colab": {
          "autoexec": {
            "startup": false,
            "wait_interval": 0
          },
          "base_uri": "https://localhost:8080/",
          "height": 90
        },
        "outputId": "c248cb22-3c66-4d22-9881-1a00a697ffd9",
        "executionInfo": {
          "status": "ok",
          "timestamp": 1523117205346,
          "user_tz": -330,
          "elapsed": 868,
          "user": {
            "displayName": "Avinash K",
            "photoUrl": "https://lh3.googleusercontent.com/a/default-user=s128",
            "userId": "102947600961494059759"
          }
        }
      },
      "cell_type": "code",
      "source": [
        "train_dataset_url = \"http://download.tensorflow.org/data/iris_training.csv\"\n",
        "# tf.keras.utils.get_file() downloads the dataset and returns the local path of the downloaded file\n",
        "train_dataset_fp = tf.keras.utils.get_file(fname=os.path.basename(train_dataset_url),origin=train_dataset_url)\n",
        "print(\"Local copy of the dataset fil: {}\".format(train_dataset_fp))"
      ],
      "execution_count": 5,
      "outputs": [
        {
          "output_type": "stream",
          "text": [
            "Downloading data from http://download.tensorflow.org/data/iris_training.csv\n",
            "\r8192/2194 [================================================================================================================] - 0s 0us/step\n",
            "Local copy of the dataset fil: /content/.keras/datasets/iris_training.csv\n"
          ],
          "name": "stdout"
        }
      ]
    },
    {
      "metadata": {
        "id": "Wft1HqcjMQro",
        "colab_type": "code",
        "colab": {
          "autoexec": {
            "startup": false,
            "wait_interval": 0
          },
          "base_uri": "https://localhost:8080/",
          "height": 284
        },
        "outputId": "9d4ecd87-e766-4cd6-dabc-7ed878abb462",
        "executionInfo": {
          "status": "ok",
          "timestamp": 1523117208497,
          "user_tz": -330,
          "elapsed": 2953,
          "user": {
            "displayName": "Avinash K",
            "photoUrl": "https://lh3.googleusercontent.com/a/default-user=s128",
            "userId": "102947600961494059759"
          }
        }
      },
      "cell_type": "code",
      "source": [
        "!head {train_dataset_fp} # by default prints the first 10 lines\n",
        "!head -n5 {train_dataset_fp}"
      ],
      "execution_count": 6,
      "outputs": [
        {
          "output_type": "stream",
          "text": [
            "120,4,setosa,versicolor,virginica\r\n",
            "6.4,2.8,5.6,2.2,2\r\n",
            "5.0,2.3,3.3,1.0,1\r\n",
            "4.9,2.5,4.5,1.7,2\r\n",
            "4.9,3.1,1.5,0.1,0\r\n",
            "5.7,3.8,1.7,0.3,0\r\n",
            "4.4,3.2,1.3,0.2,0\r\n",
            "5.4,3.4,1.5,0.4,0\r\n",
            "6.9,3.1,5.1,2.3,2\r\n",
            "6.7,3.1,4.4,1.4,1\n",
            "120,4,setosa,versicolor,virginica\n",
            "6.4,2.8,5.6,2.2,2\n",
            "5.0,2.3,3.3,1.0,1\n",
            "4.9,2.5,4.5,1.7,2\n",
            "4.9,3.1,1.5,0.1,0\n"
          ],
          "name": "stdout"
        }
      ]
    },
    {
      "metadata": {
        "id": "6PWjFto3MQui",
        "colab_type": "code",
        "colab": {
          "autoexec": {
            "startup": false,
            "wait_interval": 0
          }
        }
      },
      "cell_type": "code",
      "source": [
        "def parse_csv(line):\n",
        "  example_defaults = [[0.], [0.], [0.], [0.], [0]]\n",
        "  # decode_csv Converts CSV records to tensors. Each column maps to one tensor.\n",
        "  parse_line = tf.decode_csv(line,example_defaults)\n",
        "  features = tf.reshape(parse_line[:-1],shape=(4,))\n",
        "  label = tf.reshape(parse_line[-1],shape=())\n",
        "  return features, label"
      ],
      "execution_count": 0,
      "outputs": []
    },
    {
      "metadata": {
        "id": "xzV7D-bsMQxQ",
        "colab_type": "code",
        "colab": {
          "autoexec": {
            "startup": false,
            "wait_interval": 0
          },
          "base_uri": "https://localhost:8080/",
          "height": 53
        },
        "outputId": "cf65fa07-7fcf-458e-865a-6d3bc65460c7",
        "executionInfo": {
          "status": "ok",
          "timestamp": 1523117210562,
          "user_tz": -330,
          "elapsed": 944,
          "user": {
            "displayName": "Avinash K",
            "photoUrl": "https://lh3.googleusercontent.com/a/default-user=s128",
            "userId": "102947600961494059759"
          }
        }
      },
      "cell_type": "code",
      "source": [
        "train_dataset = tf.data.TextLineDataset(train_dataset_fp)\n",
        "train_dataset = train_dataset.skip(1)\n",
        "# The difference is that map will execute one function on every element of the Dataset separately\n",
        "# whereas apply will execute one function on the whole Dataset at once \n",
        "train_dataset = train_dataset.map(parse_csv)\n",
        "train_dataset = train_dataset.shuffle(buffer_size=1000)\n",
        "train_dataset = train_dataset.batch(32)\n",
        "features, label = tfe.Iterator(train_dataset).next()\n",
        "print(\"example features:\", features[0])\n",
        "print(\"example label\",label[0])\n"
      ],
      "execution_count": 8,
      "outputs": [
        {
          "output_type": "stream",
          "text": [
            "example features: tf.Tensor([6.1 3.  4.9 1.8], shape=(4,), dtype=float32)\n",
            "example label tf.Tensor(2, shape=(), dtype=int32)\n"
          ],
          "name": "stdout"
        }
      ]
    },
    {
      "metadata": {
        "id": "qHDQ8GcgwoVE",
        "colab_type": "code",
        "colab": {
          "autoexec": {
            "startup": false,
            "wait_interval": 0
          }
        }
      },
      "cell_type": "code",
      "source": [
        "model = tf.keras.Sequential([\n",
        "    tf.keras.layers.Dense(10,activation=\"relu\", input_shape=(4,)),\n",
        "    tf.keras.layers.Dense(10,activation=\"relu\"),\n",
        "    tf.keras.layers.Dense(3)\n",
        "])"
      ],
      "execution_count": 0,
      "outputs": []
    },
    {
      "metadata": {
        "id": "Ie9u7xcTwof9",
        "colab_type": "code",
        "colab": {
          "autoexec": {
            "startup": false,
            "wait_interval": 0
          }
        }
      },
      "cell_type": "code",
      "source": [
        "def loss(model,x,y):\n",
        "  y_=model(x)\n",
        "  return tf.losses.sparse_softmax_cross_entropy(labels=y,logits=y_)\n",
        "\n",
        "def grad(model,inputs,targets):\n",
        "  with tfe.GradientTape() as tape:\n",
        "    loss_value = loss(model,inputs,targets)\n",
        "  return tape.gradient(loss_value,model.variables)"
      ],
      "execution_count": 0,
      "outputs": []
    },
    {
      "metadata": {
        "id": "Q_EEDVzawomt",
        "colab_type": "code",
        "colab": {
          "autoexec": {
            "startup": false,
            "wait_interval": 0
          }
        }
      },
      "cell_type": "code",
      "source": [
        "optimizer = tf.train.GradientDescentOptimizer(learning_rate=0.01)"
      ],
      "execution_count": 0,
      "outputs": []
    },
    {
      "metadata": {
        "id": "LhHQ8KdhwotN",
        "colab_type": "code",
        "colab": {
          "autoexec": {
            "startup": false,
            "wait_interval": 0
          }
        }
      },
      "cell_type": "code",
      "source": [
        ""
      ],
      "execution_count": 0,
      "outputs": []
    },
    {
      "metadata": {
        "id": "YEVersyIwo3O",
        "colab_type": "code",
        "colab": {
          "autoexec": {
            "startup": false,
            "wait_interval": 0
          }
        }
      },
      "cell_type": "code",
      "source": [
        ""
      ],
      "execution_count": 0,
      "outputs": []
    },
    {
      "metadata": {
        "id": "lq5O1sDuMQ0u",
        "colab_type": "code",
        "colab": {
          "autoexec": {
            "startup": false,
            "wait_interval": 0
          },
          "base_uri": "https://localhost:8080/",
          "height": 106
        },
        "outputId": "73befaf4-5432-4531-82c3-a9f7c3b4142f",
        "executionInfo": {
          "status": "ok",
          "timestamp": 1523117224352,
          "user_tz": -330,
          "elapsed": 7823,
          "user": {
            "displayName": "Avinash K",
            "photoUrl": "https://lh3.googleusercontent.com/a/default-user=s128",
            "userId": "102947600961494059759"
          }
        }
      },
      "cell_type": "code",
      "source": [
        "train_loss_results = []\n",
        "train_accuracy_results = []\n",
        "num_epochs = 201\n",
        "for epoch in range(num_epochs):\n",
        "  epoch_loss_avg = tfe.metrics.Mean()\n",
        "  epoch_accuracy = tfe.metrics.Accuracy()\n",
        "  for x,y in tfe.Iterator(train_dataset):\n",
        "    #print(\"x and y are\",x,\" \",y) # x and y are for minibatch of 32 examples/observations\n",
        "    # above line prints the first 32 rows of dataset since our batch by default is 32\n",
        "    grads = grad(model, x, y)\n",
        "    #print(\"model variables are\",model.variables) # prints weights of each layer\n",
        "    # this prints all the weights, bias of each layer, very informative\n",
        "    # weights were given some random values and bias are all set to 0 in first iteration\n",
        "    optimizer.apply_gradients(zip(grads,model.variables),\n",
        "                             global_step=tf.train.get_or_create_global_step())\n",
        "    epoch_loss_avg(loss(model,x,y))\n",
        "    epoch_accuracy(tf.argmax(model(x),axis=1,output_type=tf.int32),y)\n",
        "  train_loss_results.append(epoch_loss_avg.result())\n",
        "  train_accuracy_results.append(epoch_accuracy.result())\n",
        "  if epoch % 50 == 0 :\n",
        "    print(\"Epoch {:03d}: Loss: {:.3f}, Accuracy: {:.3%}\".format(epoch,\n",
        "                                                               epoch_loss_avg.result(),\n",
        "                                                               epoch_accuracy.result()))"
      ],
      "execution_count": 12,
      "outputs": [
        {
          "output_type": "stream",
          "text": [
            "Epoch 000: Loss: 1.085, Accuracy: 35.000%\n",
            "Epoch 050: Loss: 0.576, Accuracy: 70.000%\n",
            "Epoch 100: Loss: 0.366, Accuracy: 92.500%\n",
            "Epoch 150: Loss: 0.236, Accuracy: 97.500%\n",
            "Epoch 200: Loss: 0.159, Accuracy: 97.500%\n"
          ],
          "name": "stdout"
        }
      ]
    },
    {
      "metadata": {
        "id": "F0syG1pMwlgh",
        "colab_type": "code",
        "colab": {
          "autoexec": {
            "startup": false,
            "wait_interval": 0
          },
          "base_uri": "https://localhost:8080/",
          "height": 578
        },
        "outputId": "4e9872ca-1159-4da7-eee7-9ff24110abf4",
        "executionInfo": {
          "status": "ok",
          "timestamp": 1523117225709,
          "user_tz": -330,
          "elapsed": 1231,
          "user": {
            "displayName": "Avinash K",
            "photoUrl": "https://lh3.googleusercontent.com/a/default-user=s128",
            "userId": "102947600961494059759"
          }
        }
      },
      "cell_type": "code",
      "source": [
        "fig, axes = plt.subplots(2, sharex = True, figsize=(12,8)) # this generates two plots, one below the other, the x axis is shared which means, x axis is marked and labelled as a common axis\n",
        "fig.suptitle('Training Metrics') #suptitle sets the title for the whole plot, since we have multiple plots here\n",
        "# You can set the main figure title with fig.suptitle and subplot's titles with ax.set_title or by passing title to fig.add_subplot\n",
        "axes[0].set_ylabel(\"Loss\",fontsize=14)\n",
        "# we created 2 subplots here. axes[0] refers the first plot and axes[1] refers to second plot\n",
        "axes[0].plot(train_loss_results)\n",
        "\n",
        "axes[1].set_ylabel(\"Accuracy\", fontsize=14)\n",
        "axes[1].set_xlabel(\"Epochs\",fontsize=14)\n",
        "axes[1].plot(train_accuracy_results)\n",
        "plt.show()\n"
      ],
      "execution_count": 13,
      "outputs": [
        {
          "output_type": "display_data",
          "data": {
            "image/png": "[encoded data removed]",
            "text/plain": [
              "<matplotlib.figure.Figure at 0x7f9198a5d630>"
            ]
          },
          "metadata": {
            "tags": []
          }
        }
      ]
    },
    {
      "metadata": {
        "id": "ksPgeESTwl3z",
        "colab_type": "code",
        "colab": {
          "autoexec": {
            "startup": false,
            "wait_interval": 0
          },
          "base_uri": "https://localhost:8080/",
          "height": 73
        },
        "outputId": "841f5163-272e-41f7-f480-8192fac4b970",
        "executionInfo": {
          "status": "ok",
          "timestamp": 1523117227019,
          "user_tz": -330,
          "elapsed": 1104,
          "user": {
            "displayName": "Avinash K",
            "photoUrl": "https://lh3.googleusercontent.com/a/default-user=s128",
            "userId": "102947600961494059759"
          }
        }
      },
      "cell_type": "code",
      "source": [
        "test_url = \"http://download.tensorflow.org/data/iris_test.csv\"\n",
        "test_fp = tf.keras.utils.get_file(fname=os.path.basename(test_url),origin=test_url)\n",
        "# fname: Name of the file. If an absolute path `/path/to/file.txt` is specified the file will be saved at that location.\n",
        "'''\n",
        "Both functions use the os.path.split(path) function to split the pathname path into a pair; (head, tail).\n",
        "\n",
        "The os.path.dirname(path) function returns the head of the path.\n",
        "\n",
        "E.g.: The dirname of '/foo/bar/item' is '/foo/bar'.\n",
        "\n",
        "The os.path.basename(path) function returns the tail of the path.\n",
        "\n",
        "E.g.: The basename of '/foo/bar/item' returns 'item'\n",
        "'''\n",
        "test_dataset = tf.data.TextLineDataset(test_fp)\n",
        "test_dataset = test_dataset.skip(1)\n",
        "test_dataset = test_dataset.map(parse_csv)\n",
        "test_dataset = test_dataset.shuffle(1000)\n",
        "test_dataset = test_dataset.batch(32)"
      ],
      "execution_count": 14,
      "outputs": [
        {
          "output_type": "stream",
          "text": [
            "Downloading data from http://download.tensorflow.org/data/iris_test.csv\n",
            "\r8192/573 [============================================================================================================================================================================================================================================================================================================================================================================================================================================] - 0s 0us/step\n"
          ],
          "name": "stdout"
        }
      ]
    },
    {
      "metadata": {
        "id": "2toWYYjXwmC7",
        "colab_type": "code",
        "colab": {
          "autoexec": {
            "startup": false,
            "wait_interval": 0
          },
          "base_uri": "https://localhost:8080/",
          "height": 586
        },
        "outputId": "83a79fcc-5173-4b07-abb9-bfb26c1a36c5",
        "executionInfo": {
          "status": "ok",
          "timestamp": 1523117229011,
          "user_tz": -330,
          "elapsed": 1764,
          "user": {
            "displayName": "Avinash K",
            "photoUrl": "https://lh3.googleusercontent.com/a/default-user=s128",
            "userId": "102947600961494059759"
          }
        }
      },
      "cell_type": "code",
      "source": [
        "test_accuracy = tfe.metrics.Accuracy()\n",
        "\n",
        "test_index = 1\n",
        "for x,y in tfe.Iterator(test_dataset):\n",
        "  if test_index == 1:\n",
        "    print(model(x))\n",
        "  prediction = tf.argmax(model(x), axis=1,output_type=tf.int32)\n",
        "  test_accuracy(prediction,y)\n",
        "  test_index = 2\n",
        "  \n",
        "print(\"Test set accuracy: {:.3f}\".format(test_accuracy.result()))\n",
        "  \n",
        "  "
      ],
      "execution_count": 15,
      "outputs": [
        {
          "output_type": "stream",
          "text": [
            "tf.Tensor(\n",
            "[[-1.0972154   3.1967103   2.789087  ]\n",
            " [-2.3149748   3.6332796   4.775473  ]\n",
            " [-3.5344303   3.0656471   6.2706733 ]\n",
            " [-3.1062174   3.2792993   5.729847  ]\n",
            " [ 9.566247    2.5579689  -4.5890136 ]\n",
            " [-0.5789909   4.130947    2.5344589 ]\n",
            " [-2.6230142   2.7997742   4.780116  ]\n",
            " [-1.977826    3.420163    4.1768713 ]\n",
            " [-0.83529896  3.7227082   2.6887817 ]\n",
            " [-0.5947706   3.6283069   2.2921274 ]\n",
            " [ 7.485918    2.5253193  -3.4509058 ]\n",
            " [-0.18155476  3.673732    1.720181  ]\n",
            " [-2.0679195   3.3337526   4.2612247 ]\n",
            " [-3.2036583   3.4394505   5.954829  ]\n",
            " [ 7.903285    2.4740815  -3.7021806 ]\n",
            " [-3.0265858   3.0807474   5.510295  ]\n",
            " [ 7.1091027   2.0659826  -3.424763  ]\n",
            " [ 6.4224544   2.6579673  -2.809819  ]\n",
            " [-3.0585878   2.6649125   5.3612404 ]\n",
            " [-0.8043799   3.3277345   2.4358876 ]\n",
            " [ 7.2808723   2.7299945  -3.2561982 ]\n",
            " [-0.28523418  3.9390886   2.0096457 ]\n",
            " [-0.35521862  3.8799121   2.0793612 ]\n",
            " [-0.0335898   3.7775235   1.5615387 ]\n",
            " [ 6.326818    2.555546   -2.7975628 ]\n",
            " [-1.0947268   3.3670712   2.8753448 ]\n",
            " [-0.3750393   3.7527575   2.0408843 ]\n",
            " [-0.1546025   4.0860863   1.8987854 ]\n",
            " [ 0.84009504  3.6728113   0.8632187 ]\n",
            " [ 9.03879     2.468745   -4.3325877 ]], shape=(30, 3), dtype=float32)\n",
            "Test set accuracy: 0.967\n"
          ],
          "name": "stdout"
        }
      ]
    },
    {
      "metadata": {
        "id": "GIN7mG2ZwmKk",
        "colab_type": "code",
        "colab": {
          "autoexec": {
            "startup": false,
            "wait_interval": 0
          },
          "base_uri": "https://localhost:8080/",
          "height": 35
        },
        "outputId": "13e72dc6-05f6-4ea6-946f-f38e099d9904",
        "executionInfo": {
          "status": "ok",
          "timestamp": 1523117230239,
          "user_tz": -330,
          "elapsed": 1040,
          "user": {
            "displayName": "Avinash K",
            "photoUrl": "https://lh3.googleusercontent.com/a/default-user=s128",
            "userId": "102947600961494059759"
          }
        }
      },
      "cell_type": "code",
      "source": [
        "test_dataset"
      ],
      "execution_count": 16,
      "outputs": [
        {
          "output_type": "execute_result",
          "data": {
            "text/plain": [
              "<BatchDataset shapes: ((?, 4), (?,)), types: (tf.float32, tf.int32)>"
            ]
          },
          "metadata": {
            "tags": []
          },
          "execution_count": 16
        }
      ]
    },
    {
      "metadata": {
        "id": "GuZUOLVkwmQZ",
        "colab_type": "code",
        "colab": {
          "autoexec": {
            "startup": false,
            "wait_interval": 0
          },
          "base_uri": "https://localhost:8080/",
          "height": 70
        },
        "outputId": "87f3cad3-cbb3-4e91-99d9-256cab10d4d2",
        "executionInfo": {
          "status": "ok",
          "timestamp": 1523117988198,
          "user_tz": -330,
          "elapsed": 1249,
          "user": {
            "displayName": "Avinash K",
            "photoUrl": "https://lh3.googleusercontent.com/a/default-user=s128",
            "userId": "102947600961494059759"
          }
        }
      },
      "cell_type": "code",
      "source": [
        "class_ids = [\"Iris Setosa\",\"Iris versicolor\",\"Iris virginica\"]\n",
        "predict_dataset = tf.convert_to_tensor([\n",
        "    [5.1,3.3,1.7,0.5],\n",
        "    [5.9,3.0,4.3,1.5],\n",
        "    [6.9,3.1,5.4,2.1]\n",
        "])\n",
        "predictions = model(predict_dataset)\n",
        "for i, logits in enumerate(predictions):\n",
        "  class_idx = tf.argmax(logits).numpy()\n",
        "  name = class_ids[class_idx]\n",
        "  print(\"Example {} prediction: {}\".format(i,name))\n",
        "  "
      ],
      "execution_count": 18,
      "outputs": [
        {
          "output_type": "stream",
          "text": [
            "Example 0 prediction: Iris Setosa\n",
            "Example 1 prediction: Iris versicolor\n",
            "Example 2 prediction: Iris virginica\n"
          ],
          "name": "stdout"
        }
      ]
    },
    {
      "metadata": {
        "id": "wxRPgIvywmUo",
        "colab_type": "code",
        "colab": {
          "autoexec": {
            "startup": false,
            "wait_interval": 0
          }
        }
      },
      "cell_type": "code",
      "source": [
        ""
      ],
      "execution_count": 0,
      "outputs": []
    },
    {
      "metadata": {
        "id": "I8qvGyhywmZJ",
        "colab_type": "code",
        "colab": {
          "autoexec": {
            "startup": false,
            "wait_interval": 0
          }
        }
      },
      "cell_type": "code",
      "source": [
        ""
      ],
      "execution_count": 0,
      "outputs": []
    },
    {
      "metadata": {
        "id": "nz--kL2xMQqB",
        "colab_type": "code",
        "colab": {
          "autoexec": {
            "startup": false,
            "wait_interval": 0
          }
        }
      },
      "cell_type": "code",
      "source": [
        ""
      ],
      "execution_count": 0,
      "outputs": []
    },
    {
      "metadata": {
        "id": "6ZJ5bf_oMQnL",
        "colab_type": "code",
        "colab": {
          "autoexec": {
            "startup": false,
            "wait_interval": 0
          }
        }
      },
      "cell_type": "code",
      "source": [
        ""
      ],
      "execution_count": 0,
      "outputs": []
    }
  ]
}