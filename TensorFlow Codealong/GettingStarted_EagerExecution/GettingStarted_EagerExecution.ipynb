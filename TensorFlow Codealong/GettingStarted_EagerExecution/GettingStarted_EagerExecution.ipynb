{
  "nbformat": 4,
  "nbformat_minor": 0,
  "metadata": {
    "colab": {
      "name": "GettingStarted_EagerExecution.ipynb",
      "version": "0.3.2",
      "views": {},
      "default_view": {},
      "provenance": [],
      "collapsed_sections": []
    },
    "kernelspec": {
      "name": "python3",
      "display_name": "Python 3"
    },
    "accelerator": "GPU"
  },
  "cells": [
    {
      "metadata": {
        "id": "VQULVoKuMBL9",
        "colab_type": "code",
        "colab": {
          "autoexec": {
            "startup": false,
            "wait_interval": 0
          },
          "output_extras": [
            {
              "item_id": 2
            }
          ],
          "base_uri": "https://localhost:8080/",
          "height": 304
        },
        "outputId": "73aa119d-fec1-463a-b558-e323f6e1a6ad",
        "executionInfo": {
          "status": "ok",
          "timestamp": 1522803996285,
          "user_tz": -330,
          "elapsed": 5735,
          "user": {
            "displayName": "Avinash K",
            "photoUrl": "https://lh3.googleusercontent.com/a/default-user=s128",
            "userId": "102947600961494059759"
          }
        }
      },
      "cell_type": "code",
      "source": [
        "!pip install --upgrade tensorflow\n"
      ],
      "execution_count": 1,
      "outputs": [
        {
          "output_type": "stream",
          "text": [
            "Requirement already up-to-date: tensorflow in /usr/local/lib/python3.6/dist-packages\n",
            "Requirement already up-to-date: absl-py>=0.1.6 in /usr/local/lib/python3.6/dist-packages (from tensorflow)\n",
            "Requirement already up-to-date: astor>=0.6.0 in /usr/local/lib/python3.6/dist-packages (from tensorflow)\n",
            "Requirement already up-to-date: six>=1.10.0 in /usr/local/lib/python3.6/dist-packages (from tensorflow)\n",
            "Requirement already up-to-date: tensorboard<1.8.0,>=1.7.0 in /usr/local/lib/python3.6/dist-packages (from tensorflow)\n",
            "Requirement already up-to-date: termcolor>=1.1.0 in /usr/local/lib/python3.6/dist-packages (from tensorflow)\n",
            "Requirement already up-to-date: grpcio>=1.8.6 in /usr/local/lib/python3.6/dist-packages (from tensorflow)\n",
            "Requirement already up-to-date: wheel>=0.26 in /usr/local/lib/python3.6/dist-packages (from tensorflow)\n",
            "Requirement already up-to-date: gast>=0.2.0 in /usr/local/lib/python3.6/dist-packages (from tensorflow)\n",
            "Requirement already up-to-date: protobuf>=3.4.0 in /usr/local/lib/python3.6/dist-packages (from tensorflow)\n",
            "Requirement already up-to-date: numpy>=1.13.3 in /usr/local/lib/python3.6/dist-packages (from tensorflow)\n",
            "Requirement already up-to-date: markdown>=2.6.8 in /usr/local/lib/python3.6/dist-packages (from tensorboard<1.8.0,>=1.7.0->tensorflow)\n",
            "Requirement already up-to-date: werkzeug>=0.11.10 in /usr/local/lib/python3.6/dist-packages (from tensorboard<1.8.0,>=1.7.0->tensorflow)\n",
            "Requirement already up-to-date: bleach==1.5.0 in /usr/local/lib/python3.6/dist-packages (from tensorboard<1.8.0,>=1.7.0->tensorflow)\n",
            "Requirement already up-to-date: html5lib==0.9999999 in /usr/local/lib/python3.6/dist-packages (from tensorboard<1.8.0,>=1.7.0->tensorflow)\n",
            "Requirement already up-to-date: setuptools in /usr/local/lib/python3.6/dist-packages (from protobuf>=3.4.0->tensorflow)\n"
          ],
          "name": "stdout"
        }
      ]
    },
    {
      "metadata": {
        "id": "64fHWfA8MQb9",
        "colab_type": "code",
        "colab": {
          "autoexec": {
            "startup": false,
            "wait_interval": 0
          },
          "output_extras": [
            {
              "item_id": 1
            }
          ],
          "base_uri": "https://localhost:8080/",
          "height": 34
        },
        "outputId": "3d6f3d5c-6583-4668-8cb1-083e1648de35",
        "executionInfo": {
          "status": "ok",
          "timestamp": 1522804014624,
          "user_tz": -330,
          "elapsed": 1882,
          "user": {
            "displayName": "Avinash K",
            "photoUrl": "https://lh3.googleusercontent.com/a/default-user=s128",
            "userId": "102947600961494059759"
          }
        }
      },
      "cell_type": "code",
      "source": [
        "import tensorflow as tf\n",
        "print(tf.VERSION)"
      ],
      "execution_count": 2,
      "outputs": [
        {
          "output_type": "stream",
          "text": [
            "1.7.0\n"
          ],
          "name": "stdout"
        }
      ]
    },
    {
      "metadata": {
        "id": "lZ5WybW2MQgk",
        "colab_type": "code",
        "colab": {
          "autoexec": {
            "startup": false,
            "wait_interval": 0
          },
          "output_extras": [
            {
              "item_id": 2
            }
          ],
          "base_uri": "https://localhost:8080/",
          "height": 120
        },
        "outputId": "bab6aa78-6875-459f-e6fe-6838fc0f85c7",
        "executionInfo": {
          "status": "ok",
          "timestamp": 1522804074932,
          "user_tz": -330,
          "elapsed": 5091,
          "user": {
            "displayName": "Avinash K",
            "photoUrl": "https://lh3.googleusercontent.com/a/default-user=s128",
            "userId": "102947600961494059759"
          }
        }
      },
      "cell_type": "code",
      "source": [
        "# __future__ : It can be used to use features which will appear in newer versions while having an older release of Python.\n",
        "from __future__ import absolute_import, division, print_function\n",
        "\n",
        "import os\n",
        "import matplotlib.pyplot as plt\n",
        "\n",
        "import tensorflow as tf\n",
        "import tensorflow.contrib.eager as tfe\n",
        "\n",
        "tf.enable_eager_execution()\n",
        "\n",
        "print(\"TensorFlow version: {}\".format(tf.VERSION))\n",
        "print(\"Eager execution: {}\".format(tf.executing_eagerly()))"
      ],
      "execution_count": 3,
      "outputs": [
        {
          "output_type": "stream",
          "text": [
            "WARNING:tensorflow:From /usr/local/lib/python3.6/dist-packages/tensorflow/contrib/learn/python/learn/datasets/base.py:198: retry (from tensorflow.contrib.learn.python.learn.datasets.base) is deprecated and will be removed in a future version.\n",
            "Instructions for updating:\n",
            "Use the retry module or similar alternatives.\n",
            "TensorFlow version: 1.7.0\n",
            "Eager execution: True\n"
          ],
          "name": "stdout"
        }
      ]
    },
    {
      "metadata": {
        "id": "9fWtKHC5MQj3",
        "colab_type": "code",
        "colab": {
          "autoexec": {
            "startup": false,
            "wait_interval": 0
          },
          "output_extras": [
            {
              "item_id": 1
            }
          ],
          "base_uri": "https://localhost:8080/",
          "height": 87
        },
        "outputId": "1251495a-e0b8-4a7b-c7b4-80cb6909cf2c",
        "executionInfo": {
          "status": "ok",
          "timestamp": 1522804226863,
          "user_tz": -330,
          "elapsed": 1081,
          "user": {
            "displayName": "Avinash K",
            "photoUrl": "https://lh3.googleusercontent.com/a/default-user=s128",
            "userId": "102947600961494059759"
          }
        }
      },
      "cell_type": "code",
      "source": [
        "train_dataset_url = \"http://download.tensorflow.org/data/iris_training.csv\"\n",
        "# tf.keras.utils.get_file() downloads the dataset and returns the local path of the downloaded file\n",
        "train_dataset_fp = tf.keras.utils.get_file(fname=os.path.basename(train_dataset_url),origin=train_dataset_url)\n",
        "print(\"Local copy of the dataset fil: {}\".format(train_dataset_fp))"
      ],
      "execution_count": 4,
      "outputs": [
        {
          "output_type": "stream",
          "text": [
            "Downloading data from http://download.tensorflow.org/data/iris_training.csv\n",
            "\r8192/2194 [================================================================================================================] - 0s 0us/step\n",
            "Local copy of the dataset fil: /content/.keras/datasets/iris_training.csv\n"
          ],
          "name": "stdout"
        }
      ]
    },
    {
      "metadata": {
        "id": "Wft1HqcjMQro",
        "colab_type": "code",
        "colab": {
          "autoexec": {
            "startup": false,
            "wait_interval": 0
          },
          "output_extras": [
            {
              "item_id": 1
            }
          ],
          "base_uri": "https://localhost:8080/",
          "height": 100
        },
        "outputId": "01657e05-73da-4b7a-d4f3-ffb6ba5b5799",
        "executionInfo": {
          "status": "ok",
          "timestamp": 1522804332894,
          "user_tz": -330,
          "elapsed": 2068,
          "user": {
            "displayName": "Avinash K",
            "photoUrl": "https://lh3.googleusercontent.com/a/default-user=s128",
            "userId": "102947600961494059759"
          }
        }
      },
      "cell_type": "code",
      "source": [
        "!head {train_dataset_fp} # by default prints the first 10 lines\n",
        "!head -n5 {train_dataset_fp}"
      ],
      "execution_count": 7,
      "outputs": [
        {
          "output_type": "stream",
          "text": [
            "120,4,setosa,versicolor,virginica\r\n",
            "6.4,2.8,5.6,2.2,2\r\n",
            "5.0,2.3,3.3,1.0,1\r\n",
            "4.9,2.5,4.5,1.7,2\r\n",
            "4.9,3.1,1.5,0.1,0\r\n"
          ],
          "name": "stdout"
        }
      ]
    },
    {
      "metadata": {
        "id": "6PWjFto3MQui",
        "colab_type": "code",
        "colab": {
          "autoexec": {
            "startup": false,
            "wait_interval": 0
          }
        }
      },
      "cell_type": "code",
      "source": [
        "def parse_csv(line):\n",
        "  example_defaults = [[0.], [0.], [0.], [0.], [0]]\n",
        "  # decode_csv Converts CSV records to tensors. Each column maps to one tensor.\n",
        "  parse_line = tf.decode_csv(line,example_defaults)\n",
        "  features = tf.reshape(parse_line[:-1],shape=(4,))\n",
        "  label = tf.reshape(parse_line[-1],shape=())\n",
        "  return features, label"
      ],
      "execution_count": 0,
      "outputs": []
    },
    {
      "metadata": {
        "id": "xzV7D-bsMQxQ",
        "colab_type": "code",
        "colab": {
          "autoexec": {
            "startup": false,
            "wait_interval": 0
          },
          "output_extras": [
            {
              "item_id": 1
            }
          ],
          "base_uri": "https://localhost:8080/",
          "height": 50
        },
        "outputId": "c94da33c-8126-4753-8c33-a40c8876df7a",
        "executionInfo": {
          "status": "ok",
          "timestamp": 1522806466375,
          "user_tz": -330,
          "elapsed": 1042,
          "user": {
            "displayName": "Avinash K",
            "photoUrl": "https://lh3.googleusercontent.com/a/default-user=s128",
            "userId": "102947600961494059759"
          }
        }
      },
      "cell_type": "code",
      "source": [
        "train_dataset = tf.data.TextLineDataset(train_dataset_fp)\n",
        "train_dataset = train_dataset.skip(1)\n",
        "# The difference is that map will execute one function on every element of the Dataset separately\n",
        "# whereas apply will execute one function on the whole Dataset at once \n",
        "train_dataset = train_dataset.map(parse_csv)\n",
        "train_dataset = train_dataset.shuffle(buffer_size=1000)\n",
        "train_dataset = train_dataset.batch(32)\n",
        "features, label = tfe.Iterator(train_dataset).next()\n",
        "print(\"example features:\", features[0])\n",
        "print(\"example label\",label[0])\n"
      ],
      "execution_count": 26,
      "outputs": [
        {
          "output_type": "stream",
          "text": [
            "example features: tf.Tensor([5.8 2.7 4.1 1. ], shape=(4,), dtype=float32)\n",
            "example label tf.Tensor(1, shape=(), dtype=int32)\n"
          ],
          "name": "stdout"
        }
      ]
    },
    {
      "metadata": {
        "id": "lq5O1sDuMQ0u",
        "colab_type": "code",
        "colab": {
          "autoexec": {
            "startup": false,
            "wait_interval": 0
          }
        }
      },
      "cell_type": "code",
      "source": [
        ""
      ],
      "execution_count": 0,
      "outputs": []
    },
    {
      "metadata": {
        "id": "nz--kL2xMQqB",
        "colab_type": "code",
        "colab": {
          "autoexec": {
            "startup": false,
            "wait_interval": 0
          }
        }
      },
      "cell_type": "code",
      "source": [
        ""
      ],
      "execution_count": 0,
      "outputs": []
    },
    {
      "metadata": {
        "id": "6ZJ5bf_oMQnL",
        "colab_type": "code",
        "colab": {
          "autoexec": {
            "startup": false,
            "wait_interval": 0
          }
        }
      },
      "cell_type": "code",
      "source": [
        ""
      ],
      "execution_count": 0,
      "outputs": []
    }
  ]
}